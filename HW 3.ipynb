{
 "cells": [
  {
   "cell_type": "code",
   "execution_count": 10,
   "id": "565b7549",
   "metadata": {},
   "outputs": [
    {
     "name": "stdout",
     "output_type": "stream",
     "text": [
      "75.2\n"
     ]
    }
   ],
   "source": [
    "marks = {'Andy':88, 'Amy':66,'James':90,'Jules':55, 'Arthur':77}\n",
    "#Q1a\n",
    "def students(name):\n",
    "    try:\n",
    "        return marks[name]\n",
    "    except:\n",
    "        print(name +'not found')\n",
    "#Q1b\n",
    "def average():\n",
    "    count=len(marks.values())\n",
    "    mean=sum(marks.values())/count\n",
    "    print(mean)\n",
    "average()"
   ]
  },
  {
   "cell_type": "code",
   "execution_count": 3,
   "id": "e2dfdc49",
   "metadata": {},
   "outputs": [
    {
     "name": "stdout",
     "output_type": "stream",
     "text": [
      "1 1\n",
      "2 4\n",
      "3 9\n",
      "4 16\n",
      "5 25\n",
      "6 36\n",
      "7 49\n",
      "8 greater than 8\n"
     ]
    }
   ],
   "source": [
    "#Q2\n",
    "def square(num):\n",
    "    n=1\n",
    "    r= n**2\n",
    "    while n<num:\n",
    "        print(n,r)\n",
    "        n+=1\n",
    "        r=n**2\n",
    "    else:\n",
    "        print(n,'greater than', num)\n",
    "square(8)"
   ]
  },
  {
   "cell_type": "code",
   "execution_count": 8,
   "id": "f057a4d2",
   "metadata": {},
   "outputs": [
    {
     "name": "stdout",
     "output_type": "stream",
     "text": [
      "15\n"
     ]
    }
   ],
   "source": [
    "#Q3\n",
    "def tally(num):\n",
    "    n=1\n",
    "    sum=0\n",
    "    while n<=num:\n",
    "        sum= sum+n\n",
    "        n+=1\n",
    "    else:\n",
    "        print(sum)       "
   ]
  },
  {
   "cell_type": "code",
   "execution_count": 14,
   "id": "3f123682",
   "metadata": {},
   "outputs": [
    {
     "name": "stdout",
     "output_type": "stream",
     "text": [
      "1\n",
      "3\n",
      "6\n",
      "10\n",
      "15\n"
     ]
    }
   ],
   "source": [
    "#Q4\n",
    "def total(num):\n",
    "    n=1\n",
    "    sum=0\n",
    "    for n in range(1,num+1):\n",
    "        sum=sum+n\n",
    "        n+=1\n",
    "        print(sum)   "
   ]
  },
  {
   "cell_type": "code",
   "execution_count": 26,
   "id": "0458bd9e",
   "metadata": {},
   "outputs": [
    {
     "name": "stdout",
     "output_type": "stream",
     "text": [
      "sum 4950\n",
      "mean 50.0\n",
      "standard deviation 28.577380332470412\n"
     ]
    }
   ],
   "source": [
    "#5\n",
    "nums = []\n",
    "for n in range (1,100):\n",
    "    nums.append(n)\n",
    "def f5(list):\n",
    "    import numpy as np\n",
    "    print('sum',sum(list))\n",
    "    print('mean', np.mean(list))\n",
    "    print('standard deviation', np.std(list))\n",
    "f5(nums)"
   ]
  },
  {
   "cell_type": "code",
   "execution_count": 48,
   "id": "acce210c",
   "metadata": {},
   "outputs": [
    {
     "data": {
      "text/plain": [
       "1"
      ]
     },
     "execution_count": 48,
     "metadata": {},
     "output_type": "execute_result"
    }
   ],
   "source": [
    "#6\n",
    "\n",
    "def f6(a,b,c,d):\n",
    "    min = a\n",
    "    for num in (a,b,c,d):\n",
    "        if num < min:\n",
    "            min = num\n",
    "    return min\n",
    "f6(1,2,3,2)       \n"
   ]
  },
  {
   "cell_type": "code",
   "execution_count": 46,
   "id": "2972bc72",
   "metadata": {},
   "outputs": [
    {
     "data": {
      "text/plain": [
       "'hi whats up'"
      ]
     },
     "execution_count": 46,
     "metadata": {},
     "output_type": "execute_result"
    }
   ],
   "source": [
    "#7\n",
    "def f7(w1, w2, w3):\n",
    "    return w1 +' '+ w2+' ' +w3\n",
    "f7('hi','whats','up')"
   ]
  },
  {
   "cell_type": "code",
   "execution_count": null,
   "id": "152f5330",
   "metadata": {},
   "outputs": [],
   "source": []
  }
 ],
 "metadata": {
  "kernelspec": {
   "display_name": "Python 3 (ipykernel)",
   "language": "python",
   "name": "python3"
  },
  "language_info": {
   "codemirror_mode": {
    "name": "ipython",
    "version": 3
   },
   "file_extension": ".py",
   "mimetype": "text/x-python",
   "name": "python",
   "nbconvert_exporter": "python",
   "pygments_lexer": "ipython3",
   "version": "3.9.12"
  }
 },
 "nbformat": 4,
 "nbformat_minor": 5
}
