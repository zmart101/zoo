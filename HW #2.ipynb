{
 "cells": [
  {
   "cell_type": "code",
   "execution_count": 6,
   "id": "11e49622",
   "metadata": {},
   "outputs": [
    {
     "name": "stdout",
     "output_type": "stream",
     "text": [
      "0\n",
      "1\n",
      "2\n",
      "3\n",
      "4\n"
     ]
    }
   ],
   "source": [
    "#1\n",
    "n=0\n",
    "while n<10:\n",
    "    print(n)\n",
    "    n+=1\n",
    "    if n==5:\n",
    "        break\n"
   ]
  },
  {
   "cell_type": "code",
   "execution_count": 2,
   "id": "6045d485",
   "metadata": {},
   "outputs": [
    {
     "name": "stdout",
     "output_type": "stream",
     "text": [
      "0\n",
      "1\n",
      "2\n",
      "3\n",
      "4\n",
      "5 is not less than 5\n"
     ]
    }
   ],
   "source": [
    "n=0\n",
    "while n<5:\n",
    "    print(n)\n",
    "    n+=1\n",
    "print(n, \"is not less than 5\")"
   ]
  },
  {
   "cell_type": "code",
   "execution_count": 10,
   "id": "151cecc8",
   "metadata": {},
   "outputs": [
    {
     "name": "stdout",
     "output_type": "stream",
     "text": [
      "orange\n",
      "kiwi\n",
      "apple\n"
     ]
    }
   ],
   "source": [
    "fruits = [\"orange\", \"kiwi\", \"apple\", \"grapes\"]\n",
    "for fruits in fruits:\n",
    "    print(fruits)\n",
    "    if fruits == \"apple\":\n",
    "        break\n"
   ]
  },
  {
   "cell_type": "code",
   "execution_count": 17,
   "id": "dba885e9",
   "metadata": {},
   "outputs": [
    {
     "name": "stdout",
     "output_type": "stream",
     "text": [
      "465\n"
     ]
    }
   ],
   "source": [
    "#4\n",
    "n=1\n",
    "total=0\n",
    "while n<31:\n",
    "    total= n+ total\n",
    "    n+=1\n",
    "print(total)"
   ]
  },
  {
   "cell_type": "code",
   "execution_count": 28,
   "id": "94f98728",
   "metadata": {},
   "outputs": [
    {
     "name": "stdout",
     "output_type": "stream",
     "text": [
      "Grade of A\n"
     ]
    }
   ],
   "source": [
    "#5\n",
    "grade= 100\n",
    "if grade >=90:\n",
    "    print(\"Grade of A\")\n",
    "elif grade>=80:\n",
    "    print(\"Grade of B\")\n",
    "elif grade>=70:\n",
    "    print(\"Grade of C\")\n",
    "elif grade>=60:\n",
    "    print(\"Grade of D\")\n",
    "else:\n",
    "    print(\"Grade of F\")\n",
    "        "
   ]
  },
  {
   "cell_type": "code",
   "execution_count": 17,
   "id": "2a2dfaaa",
   "metadata": {},
   "outputs": [
    {
     "name": "stdout",
     "output_type": "stream",
     "text": [
      "Andy 88\n",
      "Amy 66\n",
      "James 90\n",
      "Jules 55\n",
      "Arthur 77\n",
      "maximum grade was 90\n",
      "minimum grade was 55\n",
      "average grade was 75.2\n",
      "Andy\n",
      "Amy\n",
      "Andy\n",
      "Amy\n",
      "Arthur\n"
     ]
    }
   ],
   "source": [
    "#6.1\n",
    "marks = {'Andy': 88, 'Amy': 66,'James':90,'Jules':55,'Arthur':77}\n",
    "for names in marks:\n",
    "    print(names, marks[names])\n",
    "    \n",
    "#6.2\n",
    "max_grade=max(marks.values())\n",
    "min_grade=min(marks.values())\n",
    "count=len(marks.values())\n",
    "mean_grade= sum(marks.values())/count\n",
    "print(\"maximum grade was\",max_grade)\n",
    "print(\"minimum grade was\", min_grade)\n",
    "print(\"average grade was\", mean_grade)\n",
    "#6.3\n",
    "for names in marks:\n",
    "    if 'J'in names:\n",
    "        break\n",
    "    print(names)\n",
    "\n",
    "#6.4    \n",
    "for names in marks:\n",
    "    if 'J' not in names:\n",
    "        print(names)"
   ]
  },
  {
   "cell_type": "code",
   "execution_count": null,
   "id": "e8688e4b",
   "metadata": {},
   "outputs": [],
   "source": []
  },
  {
   "cell_type": "code",
   "execution_count": null,
   "id": "0825dbdd",
   "metadata": {},
   "outputs": [],
   "source": []
  }
 ],
 "metadata": {
  "kernelspec": {
   "display_name": "Python 3 (ipykernel)",
   "language": "python",
   "name": "python3"
  },
  "language_info": {
   "codemirror_mode": {
    "name": "ipython",
    "version": 3
   },
   "file_extension": ".py",
   "mimetype": "text/x-python",
   "name": "python",
   "nbconvert_exporter": "python",
   "pygments_lexer": "ipython3",
   "version": "3.9.12"
  }
 },
 "nbformat": 4,
 "nbformat_minor": 5
}
