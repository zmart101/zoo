{
 "cells": [
  {
   "cell_type": "code",
   "execution_count": 40,
   "id": "e755346a",
   "metadata": {
    "scrolled": true
   },
   "outputs": [
    {
     "name": "stdout",
     "output_type": "stream",
     "text": [
      "30\n",
      "35\n",
      "40\n",
      "45\n",
      "50\n",
      "55\n",
      "60\n"
     ]
    }
   ],
   "source": [
    "#question 1\n",
    "ascending_numbers = range(30,65,5)\n",
    "for n in ascending_numbers:\n",
    "    print(n)"
   ]
  },
  {
   "cell_type": "code",
   "execution_count": 41,
   "id": "4fa505eb",
   "metadata": {
    "scrolled": false
   },
   "outputs": [
    {
     "name": "stdout",
     "output_type": "stream",
     "text": [
      "60\n",
      "55\n",
      "50\n",
      "45\n",
      "40\n",
      "35\n",
      "30\n"
     ]
    }
   ],
   "source": [
    "#in reversed order\n",
    "descending_numbers = sorted(ascending_numbers, reverse = True)\n",
    "for n in descending_numbers:\n",
    "    print(n)"
   ]
  },
  {
   "cell_type": "code",
   "execution_count": 42,
   "id": "5e0c969f",
   "metadata": {
    "scrolled": true
   },
   "outputs": [
    {
     "name": "stdout",
     "output_type": "stream",
     "text": [
      "65\n",
      "60\n",
      "55\n",
      "50\n",
      "45\n",
      "40\n",
      "35\n",
      "30\n"
     ]
    }
   ],
   "source": [
    "#adding 65\n",
    "descending_numbers= [65]+ descending_numbers\n",
    "for n in descending_numbers:\n",
    "    print(n)"
   ]
  },
  {
   "cell_type": "code",
   "execution_count": 55,
   "id": "7005b7fb",
   "metadata": {},
   "outputs": [
    {
     "name": "stdout",
     "output_type": "stream",
     "text": [
      "[0, 1, 2, 3, 4, 5, 6, 7, 8, 9, 10, 11, 12, 13, 14, 15, 16, 17, 18, 19, 20]\n"
     ]
    }
   ],
   "source": [
    "#question 2\n",
    "empty_list = []\n",
    "for n in range(21):\n",
    "    empty_list.append(n)\n",
    "print(empty_list)"
   ]
  },
  {
   "cell_type": "code",
   "execution_count": 59,
   "id": "ea0d2d5d",
   "metadata": {
    "scrolled": true
   },
   "outputs": [
    {
     "name": "stdout",
     "output_type": "stream",
     "text": [
      "[1, 2, 3, 4, 5, 6, 7, 8, 9, 10, 11, 12, 13, 14, 15, 16, 17, 18, 19, 20]\n"
     ]
    }
   ],
   "source": [
    "#delete 0\n",
    "empty_list = [n for n in empty_list if n != 0]\n",
    "print(empty_list)\n"
   ]
  },
  {
   "cell_type": "code",
   "execution_count": 62,
   "id": "43112dea",
   "metadata": {},
   "outputs": [
    {
     "name": "stdout",
     "output_type": "stream",
     "text": [
      "length = 20\n",
      "max = 20\n",
      "min = 1\n"
     ]
    }
   ],
   "source": [
    "#return length, max, min\n",
    "print('length =',len(empty_list))\n",
    "print('max =',max(empty_list))\n",
    "print('min =', min(empty_list))\n",
    "\n"
   ]
  },
  {
   "cell_type": "code",
   "execution_count": 63,
   "id": "8ff57dc0",
   "metadata": {},
   "outputs": [
    {
     "name": "stdout",
     "output_type": "stream",
     "text": [
      "sum of the list is 210\n"
     ]
    }
   ],
   "source": [
    "#sum of the list\n",
    "print('sum of the list is',sum(empty_list))"
   ]
  },
  {
   "cell_type": "code",
   "execution_count": 89,
   "id": "d5921f6e",
   "metadata": {},
   "outputs": [
    {
     "name": "stdout",
     "output_type": "stream",
     "text": [
      "when sunny let us play\n",
      "when rainy let us watch tv\n",
      "when cloudy let us walk\n",
      "when sunny let us play\n",
      "when rainy let us watch tv\n",
      "when cloudy let us walk\n",
      "when snowy let us ski\n"
     ]
    }
   ],
   "source": [
    "#question 3\n",
    "weather = dict({'sunny': 'play', 'rainy' : 'watch tv', 'cloudy': 'walk'})\n",
    "for w in weather:\n",
    "        print('when', w, 'let us', weather[w])\n",
    "#adding in the new pair\n",
    "weather['snowy']= 'ski'\n",
    "for w in weather:\n",
    "    print('when', w, 'let us', weather[w])"
   ]
  },
  {
   "cell_type": "code",
   "execution_count": null,
   "id": "93da6490",
   "metadata": {},
   "outputs": [],
   "source": []
  }
 ],
 "metadata": {
  "kernelspec": {
   "display_name": "Python 3 (ipykernel)",
   "language": "python",
   "name": "python3"
  },
  "language_info": {
   "codemirror_mode": {
    "name": "ipython",
    "version": 3
   },
   "file_extension": ".py",
   "mimetype": "text/x-python",
   "name": "python",
   "nbconvert_exporter": "python",
   "pygments_lexer": "ipython3",
   "version": "3.9.12"
  }
 },
 "nbformat": 4,
 "nbformat_minor": 5
}
